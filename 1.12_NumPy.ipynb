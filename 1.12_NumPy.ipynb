{
 "cells": [
  {
   "cell_type": "code",
   "execution_count": 10,
   "id": "2a6a24e5-4703-47ab-8b82-90fc70191e6f",
   "metadata": {},
   "outputs": [],
   "source": [
    "import numpy as np\n",
    "import pandas as pd"
   ]
  },
  {
   "cell_type": "code",
   "execution_count": 11,
   "id": "3e3079ab-a749-49b9-9980-1b2e2a00792e",
   "metadata": {},
   "outputs": [],
   "source": [
    "# Генерация случайного массива данных размером 5x5 с случайными целыми числами от 1 до 100\n",
    "data_array = np.random.randint(1, 101, size=(5, 5))"
   ]
  },
  {
   "cell_type": "code",
   "execution_count": 12,
   "id": "1f95ee15-cd2f-4aa5-a78a-3723825aaa91",
   "metadata": {},
   "outputs": [],
   "source": [
    "# Получаем атрибуты массива\n",
    "dimensions = data_array.ndim              # Число измерений\n",
    "shape = data_array.shape                  # Размеры массива\n",
    "size = data_array.size                    # Количество элементов\n",
    "data_type = data_array.dtype              # Тип данных элементов"
   ]
  },
  {
   "cell_type": "code",
   "execution_count": 13,
   "id": "91a3b524-03bf-456a-a3b7-c04c8576ba22",
   "metadata": {},
   "outputs": [],
   "source": [
    "# Выборка элемента и срезы данных\n",
    "element = data_array[2, 3]                # Элемент по индексу (2, 3)\n",
    "row_slice = data_array[1, :]              # Срез второй строки\n",
    "column_slice = data_array[:, 2]           # Срез третьего столбца"
   ]
  },
  {
   "cell_type": "code",
   "execution_count": 14,
   "id": "0219cebc-ea52-4562-8afb-e65e0c384ec3",
   "metadata": {},
   "outputs": [],
   "source": [
    "# Математические и статистические функции\n",
    "array_sum = data_array.sum()              # Сумма элементов\n",
    "mean_value = data_array.mean()            # Среднее значение\n",
    "median_value = np.median(data_array)      # Медиана\n",
    "std_deviation = data_array.std()          # Стандартное отклонение\n",
    "max_value = data_array.max()              # Максимум\n",
    "min_value = data_array.min()              # Минимум"
   ]
  },
  {
   "cell_type": "code",
   "execution_count": 15,
   "id": "fd8d2e64-8262-415b-84e7-c91f72b615ec",
   "metadata": {},
   "outputs": [
    {
     "data": {
      "text/plain": [
       "{'Generated Array': array([[72, 51, 49, 25, 49],\n",
       "        [87,  6, 87, 38, 20],\n",
       "        [69, 16, 30, 66, 68],\n",
       "        [ 1, 66, 57, 71,  1],\n",
       "        [ 5, 75, 72, 31, 50]]),\n",
       " 'Array Dimensions': 2,\n",
       " 'Array Shape': (5, 5),\n",
       " 'Total Elements': 25,\n",
       " 'Data Type': dtype('int32'),\n",
       " 'Element at (2, 3)': 66,\n",
       " 'Row Slice (2nd row)': array([87,  6, 87, 38, 20]),\n",
       " 'Column Slice (3rd column)': array([49, 87, 30, 57, 72]),\n",
       " 'Sum': 1162,\n",
       " 'Mean': 46.48,\n",
       " 'Median': 50.0,\n",
       " 'Standard Deviation': 26.87767847117753,\n",
       " 'Max Value': 87,\n",
       " 'Min Value': 1}"
      ]
     },
     "execution_count": 15,
     "metadata": {},
     "output_type": "execute_result"
    }
   ],
   "source": [
    "# Формируем выводы\n",
    "{\n",
    "    \"Generated Array\": data_array,\n",
    "    \"Array Dimensions\": dimensions,\n",
    "    \"Array Shape\": shape,\n",
    "    \"Total Elements\": size,\n",
    "    \"Data Type\": data_type,\n",
    "    \"Element at (2, 3)\": element,\n",
    "    \"Row Slice (2nd row)\": row_slice,\n",
    "    \"Column Slice (3rd column)\": column_slice,\n",
    "    \"Sum\": array_sum,\n",
    "    \"Mean\": mean_value,\n",
    "    \"Median\": median_value,\n",
    "    \"Standard Deviation\": std_deviation,\n",
    "    \"Max Value\": max_value,\n",
    "    \"Min Value\": min_value\n",
    "}"
   ]
  }
 ],
 "metadata": {
  "kernelspec": {
   "display_name": "study_ml",
   "language": "python",
   "name": "python3"
  },
  "language_info": {
   "codemirror_mode": {
    "name": "ipython",
    "version": 3
   },
   "file_extension": ".py",
   "mimetype": "text/x-python",
   "name": "python",
   "nbconvert_exporter": "python",
   "pygments_lexer": "ipython3",
   "version": "3.12.7"
  }
 },
 "nbformat": 4,
 "nbformat_minor": 5
}
