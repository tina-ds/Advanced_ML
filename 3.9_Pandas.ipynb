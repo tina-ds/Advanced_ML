{
 "cells": [
  {
   "cell_type": "markdown",
   "id": "a73be684",
   "metadata": {},
   "source": [
    " # **Продолжение исследования данных с помощью библиотеки Pandas**\n"
   ]
  },
  {
   "cell_type": "markdown",
   "id": "6b7dc0e2",
   "metadata": {},
   "source": [
    "### 1. Создание Python-ноутбука и загрузка данных"
   ]
  },
  {
   "cell_type": "code",
   "execution_count": 213,
   "id": "3e3079ab-a749-49b9-9980-1b2e2a00792e",
   "metadata": {},
   "outputs": [],
   "source": [
    "import pandas as pd # type: ignore\n",
    "\n",
    "# Загрузка данных из файла 'processed_titanic_data.csv'\n",
    "titanic_data = pd.read_csv('processed_titanic_data.csv')"
   ]
  },
  {
   "cell_type": "markdown",
   "id": "8fe57e78",
   "metadata": {},
   "source": [
    "Вывод: Данные были успешно загружены и преобразованы в объект DataFrame. Это позволило получить доступ к различным методам и функциям для анализа данных."
   ]
  },
  {
   "cell_type": "markdown",
   "id": "ceb59c95",
   "metadata": {},
   "source": [
    "### 2. Просмотр полученного DataFrame"
   ]
  },
  {
   "cell_type": "code",
   "execution_count": 214,
   "id": "31eaae4d",
   "metadata": {},
   "outputs": [
    {
     "name": "stdout",
     "output_type": "stream",
     "text": [
      "   PassengerId  Pclass                                          Name  Sex  \\\n",
      "0          892       3                              Kelly, Mr. James    0   \n",
      "1          893       3              Wilkes, Mrs. James (Ellen Needs)    1   \n",
      "2          894       2                     Myles, Mr. Thomas Francis    0   \n",
      "3          895       3                              Wirz, Mr. Albert    0   \n",
      "4          896       3  Hirvonen, Mrs. Alexander (Helga E Lindqvist)    1   \n",
      "\n",
      "   Age  SibSp  Parch   Ticket     Fare  Embarked_Q  Embarked_S  \n",
      "0   34      0      0   330911   7.8292        True       False  \n",
      "1   47      1      0   363272   7.0000       False        True  \n",
      "2   62      0      0   240276   9.6875        True       False  \n",
      "3   27      0      0   315154   8.6625       False        True  \n",
      "4   22      1      1  3101298  12.2875       False        True  \n"
     ]
    }
   ],
   "source": [
    "print(titanic_data.head())"
   ]
  },
  {
   "cell_type": "markdown",
   "id": "7bb95a29",
   "metadata": {},
   "source": [
    "Вывод: Просмотр первых строк DataFrame позволил увидеть структуру данных, включая названия колонок и первые значения. Это помогает понять, какие данные содержатся в таблице и какие колонки нужно исследовать дальше."
   ]
  },
  {
   "cell_type": "markdown",
   "id": "c0952c85",
   "metadata": {},
   "source": [
    "### 3. Вычисление описательных статистик"
   ]
  },
  {
   "cell_type": "code",
   "execution_count": 215,
   "id": "9c468a2e",
   "metadata": {},
   "outputs": [
    {
     "name": "stdout",
     "output_type": "stream",
     "text": [
      "       PassengerId      Pclass         Sex         Age       SibSp  \\\n",
      "count   418.000000  418.000000  418.000000  418.000000  418.000000   \n",
      "mean   1100.500000    2.265550    0.363636   24.019139    0.447368   \n",
      "std     120.810458    0.841838    0.481622   17.604491    0.896760   \n",
      "min     892.000000    1.000000    0.000000    0.000000    0.000000   \n",
      "25%     996.250000    1.000000    0.000000    9.000000    0.000000   \n",
      "50%    1100.500000    3.000000    0.000000   24.000000    0.000000   \n",
      "75%    1204.750000    3.000000    1.000000   35.750000    1.000000   \n",
      "max    1309.000000    3.000000    1.000000   76.000000    8.000000   \n",
      "\n",
      "            Parch        Fare  \n",
      "count  418.000000  418.000000  \n",
      "mean     0.392344   35.627188  \n",
      "std      0.981429   55.840500  \n",
      "min      0.000000    0.000000  \n",
      "25%      0.000000    7.895800  \n",
      "50%      0.000000   14.454200  \n",
      "75%      0.000000   31.500000  \n",
      "max      9.000000  512.329200  \n"
     ]
    }
   ],
   "source": [
    "print(titanic_data.describe())"
   ]
  },
  {
   "cell_type": "markdown",
   "id": "454bc494",
   "metadata": {},
   "source": [
    "Вывод: Описательные статистики показали распределение данных по количественным колонкам, включая среднее значение, стандартное отклонение, минимальные и максимальные значения. Это помогает оценить общий характер данных и выявить возможные аномалии (например, экстремальные значения)."
   ]
  },
  {
   "cell_type": "markdown",
   "id": "cffe7845",
   "metadata": {},
   "source": [
    "### 4. Использование срезов для анализа"
   ]
  },
  {
   "cell_type": "code",
   "execution_count": 216,
   "id": "8d011be1",
   "metadata": {},
   "outputs": [],
   "source": [
    "# Выбор пассажиров первого класса\n",
    "first_class_passengers = titanic_data[titanic_data['Pclass'] == 1]"
   ]
  },
  {
   "cell_type": "code",
   "execution_count": 217,
   "id": "ab8ad960",
   "metadata": {},
   "outputs": [],
   "source": [
    "# Выбор имени, пола и возраста пассажиров первого класса\n",
    "first_class_fare = titanic_data.loc[titanic_data['Pclass'] == 1, ['Name', 'Sex', 'Age']]"
   ]
  },
  {
   "cell_type": "code",
   "execution_count": 218,
   "id": "6b2dec6d",
   "metadata": {},
   "outputs": [],
   "source": [
    "# Срез для анализа пассажиров первого класса\n",
    "first_class_passengers = titanic_data[titanic_data['Pclass'] == 1]"
   ]
  },
  {
   "cell_type": "markdown",
   "id": "3ce0eba5",
   "metadata": {},
   "source": [
    "Вывод: Срезы данных позволили выделить подгруппы, такие как пассажиры первого класса или пассажиры определенного возраста или пола. Это помогает сосредоточить внимание на анализе определенных категорий и сделать более глубокие выводы по ним."
   ]
  },
  {
   "cell_type": "markdown",
   "id": "0abd9dae",
   "metadata": {},
   "source": [
    "### 5. Отбор и фильтрация данных"
   ]
  },
  {
   "cell_type": "code",
   "execution_count": 219,
   "id": "6adb0135",
   "metadata": {},
   "outputs": [],
   "source": [
    "# Фильтр по возрасту старше 30 лет\n",
    "older_passengers = titanic_data[titanic_data['Age'] > 30]"
   ]
  },
  {
   "cell_type": "code",
   "execution_count": 220,
   "id": "d983258c",
   "metadata": {},
   "outputs": [],
   "source": [
    "# Выбор пассажиров-женщин, которые путешествовали в первом классе\n",
    "first_class_woman = titanic_data[(titanic_data['Sex'] == 1) & (titanic_data['Pclass'] == 1)]"
   ]
  },
  {
   "cell_type": "code",
   "execution_count": 221,
   "id": "991ff8ed",
   "metadata": {},
   "outputs": [],
   "source": [
    "# Метод .loc[] позволяет задать условия отбора и выбрать определенные колонки\n",
    "result = titanic_data.loc[(titanic_data['Age'] > 30) & (titanic_data['Pclass'] == 1), ['Name', 'Age', 'Pclass']]"
   ]
  },
  {
   "cell_type": "code",
   "execution_count": 222,
   "id": "9c0218fe",
   "metadata": {},
   "outputs": [],
   "source": [
    "# Выбор всех пассажиров, чьи имена начинаются с буквы \"A\"\n",
    "name_starts_with_a = titanic_data[titanic_data['Name'].str.startswith('A')]"
   ]
  },
  {
   "cell_type": "code",
   "execution_count": 223,
   "id": "054ab946",
   "metadata": {},
   "outputs": [],
   "source": [
    "# Метод .query() позволяет находить подмножества данных\n",
    "first_class_males = titanic_data.query(\"Pclass == 1 and Sex == 0\")"
   ]
  },
  {
   "cell_type": "markdown",
   "id": "cbec1b23",
   "metadata": {},
   "source": [
    "Вывод: Фильтрация данных по условиям (например, возрасту, полу или классу) помогает лучше понять демографический состав и особенности различных подгрупп. Это позволяет выявить закономерности и проводить более целенаправленный анализ."
   ]
  },
  {
   "cell_type": "markdown",
   "id": "e7f4f516",
   "metadata": {},
   "source": [
    "### 6. Сортировка данных"
   ]
  },
  {
   "cell_type": "code",
   "execution_count": 224,
   "id": "f3202dff",
   "metadata": {},
   "outputs": [],
   "source": [
    "# Сортировка по возрасту\n",
    "titanic_data_sorted = titanic_data.sort_values(by='Age')"
   ]
  },
  {
   "cell_type": "code",
   "execution_count": 225,
   "id": "a1f12427",
   "metadata": {},
   "outputs": [],
   "source": [
    "# Сортировка по тарифу\n",
    "df_sorted_by_fare = titanic_data.sort_values(by='Fare', ascending=False)"
   ]
  },
  {
   "cell_type": "markdown",
   "id": "da96a74e",
   "metadata": {},
   "source": [
    "Вывод: Сортировка данных по столбцам, например по цене билета или возрасту, позволяет быстро определить крайние значения (наиболее дорогие билеты или самых старших пассажиров). Это полезно для выявления трендов и особенностей в данных."
   ]
  },
  {
   "cell_type": "markdown",
   "id": "e6ea6112",
   "metadata": {},
   "source": [
    "### 7. Переименование колонок"
   ]
  },
  {
   "cell_type": "code",
   "execution_count": 226,
   "id": "fdb79a1a",
   "metadata": {},
   "outputs": [],
   "source": [
    "# Переименование колонок\n",
    "titanic_data.rename(columns={'Pclass': 'PassengerClass', 'Age': 'PassengerAge'}, inplace=True)"
   ]
  },
  {
   "cell_type": "markdown",
   "id": "a8bf07df",
   "metadata": {},
   "source": [
    "Вывод: Переименование колонок улучшает читаемость и понимание данных. Это особенно полезно при подготовке данных для отчетов или визуализаций, чтобы сделать их более понятными для всех участников анализа."
   ]
  },
  {
   "cell_type": "markdown",
   "id": "eb4dbde9",
   "metadata": {},
   "source": [
    "### 8. Проверка на пропущенные значения и дубликаты"
   ]
  },
  {
   "cell_type": "code",
   "execution_count": 227,
   "id": "3101c024",
   "metadata": {},
   "outputs": [],
   "source": [
    "# Проверка на пропущенные значения и дубликаты\n",
    "missing_values = titanic_data.isnull().sum()     # Пропущенные значения по столбцам\n",
    "duplicate_rows = titanic_data.duplicated().sum() # Количество строк-дубликатов"
   ]
  },
  {
   "cell_type": "markdown",
   "id": "7232a141",
   "metadata": {},
   "source": [
    "Вывод: Проверка показала отсутствие пропусков и дубликатов, потому что я обработала их в прошлой своей работе. Пропуски я заполнила средним значением, что позволило сохранить целостность данных и минимизировать влияние пропусков на анализ. А удаление дубликатов помогло избежать искажения результатов анализа и увеличило точность выводов."
   ]
  },
  {
   "cell_type": "markdown",
   "id": "1f781a70",
   "metadata": {},
   "source": [
    "### 9. Создание нового признака"
   ]
  },
  {
   "cell_type": "code",
   "execution_count": 228,
   "id": "9f8d9031",
   "metadata": {},
   "outputs": [],
   "source": [
    "titanic_data['FamilySize'] = titanic_data['SibSp'] + titanic_data['Parch']"
   ]
  },
  {
   "cell_type": "markdown",
   "id": "707f96b5",
   "metadata": {},
   "source": [
    "Вывод: Введение нового признака, такого как \"Семейный размер\", добавило дополнительную ценность к анализу, позволяя изучить влияние наличия семьи на борту на различные аспекты, такие как покупка билетов или распределение пассажиров по классам."
   ]
  },
  {
   "cell_type": "markdown",
   "id": "f35950ff",
   "metadata": {},
   "source": [
    "### Эти выводы помогут систематизировать процесс анализа данных и лучше понять, что было сделано на каждом этапе работы с DataFrame."
   ]
  }
 ],
 "metadata": {
  "kernelspec": {
   "display_name": "study_ml",
   "language": "python",
   "name": "python3"
  },
  "language_info": {
   "codemirror_mode": {
    "name": "ipython",
    "version": 3
   },
   "file_extension": ".py",
   "mimetype": "text/x-python",
   "name": "python",
   "nbconvert_exporter": "python",
   "pygments_lexer": "ipython3",
   "version": "3.12.7"
  }
 },
 "nbformat": 4,
 "nbformat_minor": 5
}
