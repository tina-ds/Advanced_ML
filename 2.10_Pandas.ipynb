{
 "cells": [
  {
   "cell_type": "markdown",
   "id": "a73be684",
   "metadata": {},
   "source": [
    " # **Первичное исследование данных с помощью библиотеки Pandas**\n"
   ]
  },
  {
   "cell_type": "code",
   "execution_count": 47,
   "id": "2a6a24e5-4703-47ab-8b82-90fc70191e6f",
   "metadata": {},
   "outputs": [],
   "source": [
    "import pandas as pd # type: ignore"
   ]
  },
  {
   "cell_type": "markdown",
   "id": "6b7dc0e2",
   "metadata": {},
   "source": [
    "### 1. Загружаем набор данных о пассажирах легендарного \"Титаника\", содержащий данные о пассажирах (количество, имя, пол, возраст и т.д.)"
   ]
  },
  {
   "cell_type": "code",
   "execution_count": 48,
   "id": "3e3079ab-a749-49b9-9980-1b2e2a00792e",
   "metadata": {},
   "outputs": [
    {
     "data": {
      "text/html": [
       "<div>\n",
       "<style scoped>\n",
       "    .dataframe tbody tr th:only-of-type {\n",
       "        vertical-align: middle;\n",
       "    }\n",
       "\n",
       "    .dataframe tbody tr th {\n",
       "        vertical-align: top;\n",
       "    }\n",
       "\n",
       "    .dataframe thead th {\n",
       "        text-align: right;\n",
       "    }\n",
       "</style>\n",
       "<table border=\"1\" class=\"dataframe\">\n",
       "  <thead>\n",
       "    <tr style=\"text-align: right;\">\n",
       "      <th></th>\n",
       "      <th>PassengerId</th>\n",
       "      <th>Pclass</th>\n",
       "      <th>Name</th>\n",
       "      <th>Sex</th>\n",
       "      <th>Age</th>\n",
       "      <th>SibSp</th>\n",
       "      <th>Parch</th>\n",
       "      <th>Ticket</th>\n",
       "      <th>Fare</th>\n",
       "      <th>Cabin</th>\n",
       "      <th>Embarked</th>\n",
       "    </tr>\n",
       "  </thead>\n",
       "  <tbody>\n",
       "    <tr>\n",
       "      <th>0</th>\n",
       "      <td>892</td>\n",
       "      <td>3</td>\n",
       "      <td>Kelly, Mr. James</td>\n",
       "      <td>male</td>\n",
       "      <td>34.5</td>\n",
       "      <td>0</td>\n",
       "      <td>0</td>\n",
       "      <td>330911</td>\n",
       "      <td>7.8292</td>\n",
       "      <td>NaN</td>\n",
       "      <td>Q</td>\n",
       "    </tr>\n",
       "    <tr>\n",
       "      <th>1</th>\n",
       "      <td>893</td>\n",
       "      <td>3</td>\n",
       "      <td>Wilkes, Mrs. James (Ellen Needs)</td>\n",
       "      <td>female</td>\n",
       "      <td>47.0</td>\n",
       "      <td>1</td>\n",
       "      <td>0</td>\n",
       "      <td>363272</td>\n",
       "      <td>7.0000</td>\n",
       "      <td>NaN</td>\n",
       "      <td>S</td>\n",
       "    </tr>\n",
       "    <tr>\n",
       "      <th>2</th>\n",
       "      <td>894</td>\n",
       "      <td>2</td>\n",
       "      <td>Myles, Mr. Thomas Francis</td>\n",
       "      <td>male</td>\n",
       "      <td>62.0</td>\n",
       "      <td>0</td>\n",
       "      <td>0</td>\n",
       "      <td>240276</td>\n",
       "      <td>9.6875</td>\n",
       "      <td>NaN</td>\n",
       "      <td>Q</td>\n",
       "    </tr>\n",
       "    <tr>\n",
       "      <th>3</th>\n",
       "      <td>895</td>\n",
       "      <td>3</td>\n",
       "      <td>Wirz, Mr. Albert</td>\n",
       "      <td>male</td>\n",
       "      <td>27.0</td>\n",
       "      <td>0</td>\n",
       "      <td>0</td>\n",
       "      <td>315154</td>\n",
       "      <td>8.6625</td>\n",
       "      <td>NaN</td>\n",
       "      <td>S</td>\n",
       "    </tr>\n",
       "    <tr>\n",
       "      <th>4</th>\n",
       "      <td>896</td>\n",
       "      <td>3</td>\n",
       "      <td>Hirvonen, Mrs. Alexander (Helga E Lindqvist)</td>\n",
       "      <td>female</td>\n",
       "      <td>22.0</td>\n",
       "      <td>1</td>\n",
       "      <td>1</td>\n",
       "      <td>3101298</td>\n",
       "      <td>12.2875</td>\n",
       "      <td>NaN</td>\n",
       "      <td>S</td>\n",
       "    </tr>\n",
       "    <tr>\n",
       "      <th>...</th>\n",
       "      <td>...</td>\n",
       "      <td>...</td>\n",
       "      <td>...</td>\n",
       "      <td>...</td>\n",
       "      <td>...</td>\n",
       "      <td>...</td>\n",
       "      <td>...</td>\n",
       "      <td>...</td>\n",
       "      <td>...</td>\n",
       "      <td>...</td>\n",
       "      <td>...</td>\n",
       "    </tr>\n",
       "    <tr>\n",
       "      <th>413</th>\n",
       "      <td>1305</td>\n",
       "      <td>3</td>\n",
       "      <td>Spector, Mr. Woolf</td>\n",
       "      <td>male</td>\n",
       "      <td>NaN</td>\n",
       "      <td>0</td>\n",
       "      <td>0</td>\n",
       "      <td>A.5. 3236</td>\n",
       "      <td>8.0500</td>\n",
       "      <td>NaN</td>\n",
       "      <td>S</td>\n",
       "    </tr>\n",
       "    <tr>\n",
       "      <th>414</th>\n",
       "      <td>1306</td>\n",
       "      <td>1</td>\n",
       "      <td>Oliva y Ocana, Dona. Fermina</td>\n",
       "      <td>female</td>\n",
       "      <td>39.0</td>\n",
       "      <td>0</td>\n",
       "      <td>0</td>\n",
       "      <td>PC 17758</td>\n",
       "      <td>108.9000</td>\n",
       "      <td>C105</td>\n",
       "      <td>C</td>\n",
       "    </tr>\n",
       "    <tr>\n",
       "      <th>415</th>\n",
       "      <td>1307</td>\n",
       "      <td>3</td>\n",
       "      <td>Saether, Mr. Simon Sivertsen</td>\n",
       "      <td>male</td>\n",
       "      <td>38.5</td>\n",
       "      <td>0</td>\n",
       "      <td>0</td>\n",
       "      <td>SOTON/O.Q. 3101262</td>\n",
       "      <td>7.2500</td>\n",
       "      <td>NaN</td>\n",
       "      <td>S</td>\n",
       "    </tr>\n",
       "    <tr>\n",
       "      <th>416</th>\n",
       "      <td>1308</td>\n",
       "      <td>3</td>\n",
       "      <td>Ware, Mr. Frederick</td>\n",
       "      <td>male</td>\n",
       "      <td>NaN</td>\n",
       "      <td>0</td>\n",
       "      <td>0</td>\n",
       "      <td>359309</td>\n",
       "      <td>8.0500</td>\n",
       "      <td>NaN</td>\n",
       "      <td>S</td>\n",
       "    </tr>\n",
       "    <tr>\n",
       "      <th>417</th>\n",
       "      <td>1309</td>\n",
       "      <td>3</td>\n",
       "      <td>Peter, Master. Michael J</td>\n",
       "      <td>male</td>\n",
       "      <td>NaN</td>\n",
       "      <td>1</td>\n",
       "      <td>1</td>\n",
       "      <td>2668</td>\n",
       "      <td>22.3583</td>\n",
       "      <td>NaN</td>\n",
       "      <td>C</td>\n",
       "    </tr>\n",
       "  </tbody>\n",
       "</table>\n",
       "<p>418 rows × 11 columns</p>\n",
       "</div>"
      ],
      "text/plain": [
       "     PassengerId  Pclass                                          Name  \\\n",
       "0            892       3                              Kelly, Mr. James   \n",
       "1            893       3              Wilkes, Mrs. James (Ellen Needs)   \n",
       "2            894       2                     Myles, Mr. Thomas Francis   \n",
       "3            895       3                              Wirz, Mr. Albert   \n",
       "4            896       3  Hirvonen, Mrs. Alexander (Helga E Lindqvist)   \n",
       "..           ...     ...                                           ...   \n",
       "413         1305       3                            Spector, Mr. Woolf   \n",
       "414         1306       1                  Oliva y Ocana, Dona. Fermina   \n",
       "415         1307       3                  Saether, Mr. Simon Sivertsen   \n",
       "416         1308       3                           Ware, Mr. Frederick   \n",
       "417         1309       3                      Peter, Master. Michael J   \n",
       "\n",
       "        Sex   Age  SibSp  Parch              Ticket      Fare Cabin Embarked  \n",
       "0      male  34.5      0      0              330911    7.8292   NaN        Q  \n",
       "1    female  47.0      1      0              363272    7.0000   NaN        S  \n",
       "2      male  62.0      0      0              240276    9.6875   NaN        Q  \n",
       "3      male  27.0      0      0              315154    8.6625   NaN        S  \n",
       "4    female  22.0      1      1             3101298   12.2875   NaN        S  \n",
       "..      ...   ...    ...    ...                 ...       ...   ...      ...  \n",
       "413    male   NaN      0      0           A.5. 3236    8.0500   NaN        S  \n",
       "414  female  39.0      0      0            PC 17758  108.9000  C105        C  \n",
       "415    male  38.5      0      0  SOTON/O.Q. 3101262    7.2500   NaN        S  \n",
       "416    male   NaN      0      0              359309    8.0500   NaN        S  \n",
       "417    male   NaN      1      1                2668   22.3583   NaN        C  \n",
       "\n",
       "[418 rows x 11 columns]"
      ]
     },
     "execution_count": 48,
     "metadata": {},
     "output_type": "execute_result"
    }
   ],
   "source": [
    "# Загрузка данных из файла 'dataset.csv'\n",
    "df = pd.read_csv('dataset.csv')\n",
    "df"
   ]
  },
  {
   "cell_type": "markdown",
   "id": "c0952c85",
   "metadata": {},
   "source": [
    "### 2. Анализ данных"
   ]
  },
  {
   "cell_type": "code",
   "execution_count": 49,
   "id": "9c468a2e",
   "metadata": {},
   "outputs": [
    {
     "name": "stdout",
     "output_type": "stream",
     "text": [
      "<class 'pandas.core.frame.DataFrame'>\n",
      "RangeIndex: 418 entries, 0 to 417\n",
      "Data columns (total 11 columns):\n",
      " #   Column       Non-Null Count  Dtype  \n",
      "---  ------       --------------  -----  \n",
      " 0   PassengerId  418 non-null    int64  \n",
      " 1   Pclass       418 non-null    int64  \n",
      " 2   Name         418 non-null    object \n",
      " 3   Sex          418 non-null    object \n",
      " 4   Age          332 non-null    float64\n",
      " 5   SibSp        418 non-null    int64  \n",
      " 6   Parch        418 non-null    int64  \n",
      " 7   Ticket       418 non-null    object \n",
      " 8   Fare         417 non-null    float64\n",
      " 9   Cabin        91 non-null     object \n",
      " 10  Embarked     418 non-null    object \n",
      "dtypes: float64(2), int64(4), object(5)\n",
      "memory usage: 36.1+ KB\n"
     ]
    }
   ],
   "source": [
    "# Получение основной информации о структуре данных\n",
    "column_count = len(df.columns)         # Количество столбцов\n",
    "column_names = df.columns              # Названия столбцов\n",
    "data_info = df.info()                  # Типы данных и память\n",
    "index_range = df.index                 # Индексный диапазон\n",
    "non_null_counts = df.count()           # Количество ненулевых значений в каждом столбце"
   ]
  },
  {
   "cell_type": "code",
   "execution_count": 50,
   "id": "8d011be1",
   "metadata": {},
   "outputs": [],
   "source": [
    "# Проверка на пропущенные значения и дубликаты\n",
    "missing_values = df.isnull().sum()     # Пропущенные значения по столбцам\n",
    "duplicate_rows = df.duplicated().sum() # Количество строк-дубликатов"
   ]
  },
  {
   "cell_type": "code",
   "execution_count": 51,
   "id": "6adb0135",
   "metadata": {},
   "outputs": [
    {
     "data": {
      "text/plain": [
       "{'column_count': 11,\n",
       " 'column_names': Index(['PassengerId', 'Pclass', 'Name', 'Sex', 'Age', 'SibSp', 'Parch',\n",
       "        'Ticket', 'Fare', 'Cabin', 'Embarked'],\n",
       "       dtype='object'),\n",
       " 'index_range': RangeIndex(start=0, stop=418, step=1),\n",
       " 'non_null_counts': PassengerId    418\n",
       " Pclass         418\n",
       " Name           418\n",
       " Sex            418\n",
       " Age            332\n",
       " SibSp          418\n",
       " Parch          418\n",
       " Ticket         418\n",
       " Fare           417\n",
       " Cabin           91\n",
       " Embarked       418\n",
       " dtype: int64,\n",
       " 'missing_values': PassengerId      0\n",
       " Pclass           0\n",
       " Name             0\n",
       " Sex              0\n",
       " Age             86\n",
       " SibSp            0\n",
       " Parch            0\n",
       " Ticket           0\n",
       " Fare             1\n",
       " Cabin          327\n",
       " Embarked         0\n",
       " dtype: int64,\n",
       " 'duplicate_rows': 0}"
      ]
     },
     "execution_count": 51,
     "metadata": {},
     "output_type": "execute_result"
    }
   ],
   "source": [
    "# Вывод информации\n",
    "{\n",
    "    \"column_count\": column_count,\n",
    "    \"column_names\": column_names,\n",
    "    \"index_range\": index_range,\n",
    "    \"non_null_counts\": non_null_counts,\n",
    "    \"missing_values\": missing_values,\n",
    "    \"duplicate_rows\": duplicate_rows\n",
    "}"
   ]
  },
  {
   "cell_type": "markdown",
   "id": "1d158f50",
   "metadata": {},
   "source": [
    "#### Выводы:  \n",
    "1. Структура данных:\n",
    "   - Количество столбцов: **11**\n",
    "   - Названия столбцов: `['PassengerId', 'Pclass', 'Name', 'Sex', 'Age', 'SibSp', 'Parch', 'Ticket', 'Fare', 'Cabin', 'Embarked']`\n",
    "   - Индексный диапазон: от 0 до 417 (418 строк)\n",
    "\n",
    "\n",
    "2. Информация о столбцах:\n",
    "   - Типы данных:\n",
    "     - Целочисленные (`int64`): `PassengerId`, `Pclass`, `SibSp`, `Parch`\n",
    "     - Числовые с плавающей точкой (`float64`): `Age`, `Fare`\n",
    "     - Объектные (`object`): `Name`, `Sex`, `Ticket`, `Cabin`, `Embarked`\n",
    "   - Использование памяти: ~36.1 KB\n",
    "\n",
    "\n",
    "3. Непустые значения:\n",
    "   - `Age` имеет **332** непустых значений (86 пропусков).\n",
    "   - `Fare` имеет **417** непустых значений (1 пропуск).\n",
    "   - `Cabin` имеет **91** непустое значение (327 пропусков).\n",
    "   \n",
    "\n",
    "4. Проверка на пропуски и дубликаты:\n",
    "   - Пропущенные значения по столбцам:\n",
    "     - `Age`: 86 пропусков\n",
    "     - `Fare`: 1 пропуск\n",
    "     - `Cabin`: 327 пропусков\n",
    "   - Дубликаты: **0** строк-дубликатов\n"
   ]
  },
  {
   "cell_type": "markdown",
   "id": "d17f17a2",
   "metadata": {},
   "source": [
    "### 3. Обработка пропусков"
   ]
  },
  {
   "cell_type": "code",
   "execution_count": 52,
   "id": "3ad2f819",
   "metadata": {},
   "outputs": [],
   "source": [
    "df['Age'] = df['Age'].fillna(0).astype(int)\n",
    "df['Age'] = df['Age'].fillna(df['Age'].mean())"
   ]
  },
  {
   "cell_type": "code",
   "execution_count": 53,
   "id": "35a34afc",
   "metadata": {},
   "outputs": [],
   "source": [
    "# Заполним пропущенное значение в 'Fare' средним значением\n",
    "df['Fare'] = df['Fare'].fillna(df['Fare'].mean())"
   ]
  },
  {
   "cell_type": "code",
   "execution_count": 54,
   "id": "2cce0419",
   "metadata": {},
   "outputs": [],
   "source": [
    "# Учитывая большое количество пропусков, удалим колонку 'Cabin'\n",
    "df.drop(columns=['Cabin'], inplace=True)"
   ]
  },
  {
   "cell_type": "markdown",
   "id": "cae41e07",
   "metadata": {},
   "source": [
    "#### Результаты:  \n",
    "1. Заполнены пропуски:\n",
    "   - В колонке `Age` пропуски заменены на среднее значение возраста.\n",
    "   - В колонке `Fare` пропущенное значение также заменено на среднее значение.\n",
    "\n",
    "\n",
    "2. Удалена колонка `Cabin` из-за большого количества пропусков (327 из 418 значений были пропущены)."
   ]
  },
  {
   "cell_type": "markdown",
   "id": "b2f13f27",
   "metadata": {},
   "source": [
    "### 4. Преобразование категориальных данных"
   ]
  },
  {
   "cell_type": "code",
   "execution_count": 55,
   "id": "adc33148",
   "metadata": {},
   "outputs": [],
   "source": [
    "# Преобразуем колонку 'Sex' в числовой формат: 'male' = 0, 'female' = 1\n",
    "df['Sex'] = df['Sex'].map({'male': 0, 'female': 1})"
   ]
  },
  {
   "cell_type": "code",
   "execution_count": 56,
   "id": "1f8843ba",
   "metadata": {},
   "outputs": [],
   "source": [
    "# Преобразуем колонку 'Embarked' в числовой формат: создадим dummy-переменные\n",
    "df = pd.get_dummies(df, columns=['Embarked'], drop_first=True)\n"
   ]
  },
  {
   "cell_type": "markdown",
   "id": "d4e9eeac",
   "metadata": {},
   "source": [
    "#### Результаты:  \n",
    "1. Категориальные переменные преобразованы:\n",
    "   - Пол (`Sex`) преобразован в числовой формат: `male` = 0, `female` = 1.\n",
    "   - Переменная `Embarked` преобразована в бинарные переменные `Embarked_Q` и `Embarked_S` с использованием dummy-кодирования. Значение `Embarked_C` было исключено, чтобы избежать мультиколлинеарности."
   ]
  },
  {
   "cell_type": "markdown",
   "id": "3b50ea1a",
   "metadata": {},
   "source": [
    "## Итоговый результат"
   ]
  },
  {
   "cell_type": "code",
   "execution_count": 57,
   "id": "9aa09218",
   "metadata": {},
   "outputs": [
    {
     "name": "stdout",
     "output_type": "stream",
     "text": [
      "<class 'pandas.core.frame.DataFrame'>\n",
      "RangeIndex: 418 entries, 0 to 417\n",
      "Data columns (total 11 columns):\n",
      " #   Column       Non-Null Count  Dtype  \n",
      "---  ------       --------------  -----  \n",
      " 0   PassengerId  418 non-null    int64  \n",
      " 1   Pclass       418 non-null    int64  \n",
      " 2   Name         418 non-null    object \n",
      " 3   Sex          418 non-null    int64  \n",
      " 4   Age          418 non-null    int32  \n",
      " 5   SibSp        418 non-null    int64  \n",
      " 6   Parch        418 non-null    int64  \n",
      " 7   Ticket       418 non-null    object \n",
      " 8   Fare         418 non-null    float64\n",
      " 9   Embarked_Q   418 non-null    bool   \n",
      " 10  Embarked_S   418 non-null    bool   \n",
      "dtypes: bool(2), float64(1), int32(1), int64(5), object(2)\n",
      "memory usage: 28.7+ KB\n"
     ]
    },
    {
     "data": {
      "text/plain": [
       "(None,\n",
       "    PassengerId  Pclass                                          Name  Sex  \\\n",
       " 0          892       3                              Kelly, Mr. James    0   \n",
       " 1          893       3              Wilkes, Mrs. James (Ellen Needs)    1   \n",
       " 2          894       2                     Myles, Mr. Thomas Francis    0   \n",
       " 3          895       3                              Wirz, Mr. Albert    0   \n",
       " 4          896       3  Hirvonen, Mrs. Alexander (Helga E Lindqvist)    1   \n",
       " \n",
       "    Age  SibSp  Parch   Ticket     Fare  Embarked_Q  Embarked_S  \n",
       " 0   34      0      0   330911   7.8292        True       False  \n",
       " 1   47      1      0   363272   7.0000       False        True  \n",
       " 2   62      0      0   240276   9.6875        True       False  \n",
       " 3   27      0      0   315154   8.6625       False        True  \n",
       " 4   22      1      1  3101298  12.2875       False        True  )"
      ]
     },
     "execution_count": 57,
     "metadata": {},
     "output_type": "execute_result"
    }
   ],
   "source": [
    "# Проверим результат предобработки\n",
    "df.info(), df.head()"
   ]
  },
  {
   "cell_type": "markdown",
   "id": "20156176",
   "metadata": {},
   "source": [
    "Теперь датафрейм готов для анализа или моделирования, и его структура выглядит так:\n",
    "\n",
    "- **Всего 11 колонок**: основные числовые и категориальные данные подготовленны для анализа."
   ]
  },
  {
   "cell_type": "markdown",
   "id": "15e96236",
   "metadata": {},
   "source": [
    "### И сохраняем наши подготовленные данные для дальнейшего анализа"
   ]
  },
  {
   "cell_type": "code",
   "execution_count": 58,
   "id": "4e65c969",
   "metadata": {},
   "outputs": [],
   "source": [
    "# Сохранение DataFrame в CSV-файл\n",
    "df.to_csv('processed_titanic_data.csv', index=False)"
   ]
  }
 ],
 "metadata": {
  "kernelspec": {
   "display_name": "study_ml",
   "language": "python",
   "name": "python3"
  },
  "language_info": {
   "codemirror_mode": {
    "name": "ipython",
    "version": 3
   },
   "file_extension": ".py",
   "mimetype": "text/x-python",
   "name": "python",
   "nbconvert_exporter": "python",
   "pygments_lexer": "ipython3",
   "version": "3.12.7"
  }
 },
 "nbformat": 4,
 "nbformat_minor": 5
}
